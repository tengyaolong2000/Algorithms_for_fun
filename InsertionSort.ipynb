{
 "cells": [
  {
   "cell_type": "markdown",
   "id": "739ca8e1",
   "metadata": {},
   "source": [
    "**Insertion Sort**"
   ]
  },
  {
   "cell_type": "code",
   "execution_count": 1,
   "id": "37b83dee",
   "metadata": {},
   "outputs": [],
   "source": [
    "def insertionSortList(array):\n",
    "    \n",
    "    for i in range(len(array)):\n",
    "        while i>0 and array[i] < array[i-1]:\n",
    "            array[i-1], array[i] = array[i], array[i-1]\n",
    "            i -=1\n",
    "    return array\n"
   ]
  },
  {
   "cell_type": "code",
   "execution_count": 3,
   "id": "144a991d",
   "metadata": {},
   "outputs": [
    {
     "data": {
      "text/plain": [
       "[1, 2, 3, 4, 5, 6, 7, 9, 10, 99, 100]"
      ]
     },
     "execution_count": 3,
     "metadata": {},
     "output_type": "execute_result"
    }
   ],
   "source": [
    "wa = [1,3,5,6,2,9,4,7,10,100,99]\n",
    "insertionSortList(wa)"
   ]
  },
  {
   "cell_type": "markdown",
   "id": "3abdfe08",
   "metadata": {},
   "source": [
    "**Binary Insertion Sort**"
   ]
  },
  {
   "cell_type": "code",
   "execution_count": 4,
   "id": "19d0a7d3",
   "metadata": {},
   "outputs": [],
   "source": [
    "def binary_search(input, target):\n",
    "    L = 0\n",
    "    R = len(input)-1\n",
    "    m = (L+R)//2\n",
    "    \n",
    "    while R>=L:\n",
    "        if input[m] == target:\n",
    "            return m\n",
    "        if input[m] > target:\n",
    "            R = m-1\n",
    "            m = (L+R)//2\n",
    "        if input[m] < target:\n",
    "            L = m+1\n",
    "            m = (L+R)//2\n",
    "    if R<L:\n",
    "        return L\n",
    "    if L>R:\n",
    "        return R\n",
    "    \n",
    "    \n",
    "def insertion_sort(arr):\n",
    "    for i in range(1, len(arr)):\n",
    "        val = arr[i]\n",
    "        j = binary_search(arr, val)\n",
    "        arr = arr[:j] + [val] + arr[j:i] + arr[i+1:]\n",
    "    return arr\n",
    "    \n",
    "    "
   ]
  },
  {
   "cell_type": "code",
   "execution_count": 5,
   "id": "6003ba9f",
   "metadata": {},
   "outputs": [
    {
     "data": {
      "text/plain": [
       "[1, 2, 3, 4, 5, 6, 7, 9, 10, 99, 100]"
      ]
     },
     "execution_count": 5,
     "metadata": {},
     "output_type": "execute_result"
    }
   ],
   "source": [
    "wa = [1,3,5,6,2,9,4,7,10,100,99]\n",
    "insertion_sort(wa)"
   ]
  },
  {
   "cell_type": "code",
   "execution_count": 19,
   "id": "ca6c78a1",
   "metadata": {},
   "outputs": [],
   "source": [
    "def longestValidParentheses(s):\n",
    "\n",
    "    counter_p = 0\n",
    "    s = list(s)\n",
    "    i = 0\n",
    "\n",
    "\n",
    "    while s:\n",
    "\n",
    "        if '(' not in s or ')' not in s:\n",
    "            break\n",
    "\n",
    "        if s[i] == '(' and s[i+1] == ')':\n",
    "            del s[i+1]\n",
    "            del s[i]\n",
    "            print(s)\n",
    "            counter_p += 1\n",
    "            print(counter_p)\n",
    "        \n",
    "        else:\n",
    "            i += 1\n",
    "            if i >=len(s):\n",
    "                i = 0\n",
    "            print(i)\n",
    "\n",
    "\n",
    "\n",
    "    return counter_p*2\n"
   ]
  },
  {
   "cell_type": "code",
   "execution_count": 21,
   "id": "7af443be",
   "metadata": {},
   "outputs": [
    {
     "name": "stdout",
     "output_type": "stream",
     "text": [
      "[')', ')', ')', '(', '(', ')', ')']\n",
      "1\n",
      "1\n",
      "2\n",
      "3\n",
      "4\n",
      "[')', ')', ')', '(', ')']\n",
      "2\n",
      "0\n",
      "1\n",
      "2\n",
      "3\n",
      "[')', ')', ')']\n",
      "3\n"
     ]
    },
    {
     "data": {
      "text/plain": [
       "6"
      ]
     },
     "execution_count": 21,
     "metadata": {},
     "output_type": "execute_result"
    }
   ],
   "source": [
    "longestValidParentheses('())))(())')"
   ]
  },
  {
   "cell_type": "code",
   "execution_count": null,
   "id": "74d309c7",
   "metadata": {},
   "outputs": [],
   "source": []
  }
 ],
 "metadata": {
  "kernelspec": {
   "display_name": "Python 3",
   "language": "python",
   "name": "python3"
  },
  "language_info": {
   "codemirror_mode": {
    "name": "ipython",
    "version": 3
   },
   "file_extension": ".py",
   "mimetype": "text/x-python",
   "name": "python",
   "nbconvert_exporter": "python",
   "pygments_lexer": "ipython3",
   "version": "3.8.2"
  }
 },
 "nbformat": 4,
 "nbformat_minor": 5
}
