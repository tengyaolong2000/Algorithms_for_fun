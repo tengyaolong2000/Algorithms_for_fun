{
 "cells": [
  {
   "cell_type": "markdown",
   "id": "a2dc54d1",
   "metadata": {},
   "source": [
    "**Iterative**"
   ]
  },
  {
   "cell_type": "code",
   "execution_count": 90,
   "id": "215c03ee",
   "metadata": {},
   "outputs": [],
   "source": [
    "def longestPalindrome1(s):\n",
    "    max_length = s[0:1]\n",
    "    \n",
    "    for i in range(0,len(s)):\n",
    "        x = i\n",
    "        q = i+1\n",
    "        y = i+1\n",
    "        z = i-1\n",
    "\n",
    "        \n",
    "        if i>0:\n",
    "            while z>=0 and y <=len(s)-1 and s[z] == s[y]:\n",
    "                if y-z+1 > len(max_length):\n",
    "                    max_length = s[z:y+1]\n",
    "                \n",
    "                z-=1\n",
    "                y+=1\n",
    "        \n",
    "        while x>=0 and q<=len(s)-1 and s[x] == s[q]:\n",
    "            if q-x+1 > len(max_length):\n",
    "                max_length = s[x:q+1]\n",
    "\n",
    "            \n",
    "            x -= 1\n",
    "            q += 1\n",
    "\n",
    "    return max_length"
   ]
  },
  {
   "cell_type": "code",
   "execution_count": 96,
   "id": "76f1ba39",
   "metadata": {},
   "outputs": [
    {
     "data": {
      "text/plain": [
       "'caabdbaac'"
      ]
     },
     "execution_count": 96,
     "metadata": {},
     "output_type": "execute_result"
    }
   ],
   "source": [
    "longestPalindrome1('caabdbaac')"
   ]
  },
  {
   "cell_type": "code",
   "execution_count": 100,
   "id": "46b801c3",
   "metadata": {
    "scrolled": true
   },
   "outputs": [],
   "source": [
    "for g in range(6,5):\n",
    "    print(g)"
   ]
  },
  {
   "cell_type": "markdown",
   "id": "39a247f1",
   "metadata": {},
   "source": [
    "**Dynamic Programming** "
   ]
  },
  {
   "cell_type": "code",
   "execution_count": 101,
   "id": "6382666a",
   "metadata": {},
   "outputs": [],
   "source": [
    "def longestPalindrome1(s):\n",
    "\n",
    "    n = len(s)\n",
    "    # Form a bottom-up dp 2d array\n",
    "    # dp[i][j] will be 'true' if the string from index i to j is a palindrome. \n",
    "    dp = [[False] * n  for _ in range(n)]\n",
    "\n",
    "    ans = ''\n",
    "    # every string with one character is a palindrome\n",
    "    for i in range(n):\n",
    "        dp[i][i] = True\n",
    "        ans = s[i]\n",
    "\n",
    "    maxLen = 1\n",
    "    for start in range(n-1, -1, -1):\n",
    "        for end in range(start+1, n):             \n",
    "            # palindrome condition\n",
    "            if s[start] == s[end]:\n",
    "                # if it's a two char. string or if the remaining string is a palindrome too\n",
    "                if end - start == 1 or dp[start+1][end-1]:\n",
    "                    dp[start][end] = True\n",
    "                    if maxLen < end - start + 1:\n",
    "                        maxLen = end - start + 1\n",
    "                        ans = s[start: end+ 1]\n",
    "\n",
    "    return ans"
   ]
  },
  {
   "cell_type": "code",
   "execution_count": 103,
   "id": "785c5e3f",
   "metadata": {},
   "outputs": [
    {
     "data": {
      "text/plain": [
       "'abbcdcbba'"
      ]
     },
     "execution_count": 103,
     "metadata": {},
     "output_type": "execute_result"
    }
   ],
   "source": [
    "longestPalindrome1('fabbcdcbba')"
   ]
  },
  {
   "cell_type": "code",
   "execution_count": 3,
   "id": "a8ae0a54",
   "metadata": {},
   "outputs": [
    {
     "name": "stdout",
     "output_type": "stream",
     "text": [
      "1\n"
     ]
    }
   ],
   "source": []
  },
  {
   "cell_type": "code",
   "execution_count": null,
   "id": "00cabe43",
   "metadata": {},
   "outputs": [],
   "source": []
  }
 ],
 "metadata": {
  "kernelspec": {
   "display_name": "Python 3",
   "language": "python",
   "name": "python3"
  },
  "language_info": {
   "codemirror_mode": {
    "name": "ipython",
    "version": 3
   },
   "file_extension": ".py",
   "mimetype": "text/x-python",
   "name": "python",
   "nbconvert_exporter": "python",
   "pygments_lexer": "ipython3",
   "version": "3.8.8"
  }
 },
 "nbformat": 4,
 "nbformat_minor": 5
}
