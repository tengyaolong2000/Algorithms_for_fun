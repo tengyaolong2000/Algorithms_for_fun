{
 "cells": [
  {
   "cell_type": "markdown",
   "id": "a22ee38a",
   "metadata": {},
   "source": [
    "**Iterative**"
   ]
  },
  {
   "cell_type": "code",
   "execution_count": 1,
   "id": "fdf1ecb3",
   "metadata": {},
   "outputs": [],
   "source": [
    "def binary_search(input, target):\n",
    "    L = 0\n",
    "    R = len(input)-1\n",
    "    m = (L+R)//2\n",
    "    \n",
    "    while R>=L:\n",
    "        if input[m] == target:\n",
    "            return m\n",
    "        if input[m] > target:\n",
    "            R = m-1\n",
    "            m = (L+R)//2\n",
    "        if input[m] < target:\n",
    "            L = m+1\n",
    "            m = (L+R)//2\n",
    "    return -1\n",
    "\n"
   ]
  },
  {
   "cell_type": "code",
   "execution_count": 6,
   "id": "363a2ecd",
   "metadata": {},
   "outputs": [
    {
     "data": {
      "text/plain": [
       "4"
      ]
     },
     "execution_count": 6,
     "metadata": {},
     "output_type": "execute_result"
    }
   ],
   "source": [
    "x = [1,2,3,4,6,7,9,10,15,17,22,89,99,101]\n",
    "binary_search(x, 6)"
   ]
  },
  {
   "cell_type": "markdown",
   "id": "02b84c58",
   "metadata": {},
   "source": [
    "**Recursive**"
   ]
  },
  {
   "cell_type": "code",
   "execution_count": 7,
   "id": "04fbce2e",
   "metadata": {},
   "outputs": [],
   "source": [
    "def binary_search(input, target, L, R):\n",
    "\n",
    "    m = (L+R)//2\n",
    "    \n",
    "    if L > R:\n",
    "        return -1\n",
    "    \n",
    "    if input[m] == target:\n",
    "        return m\n",
    "    \n",
    "    if input[m] > target:\n",
    "        R = m-1\n",
    "        return binary_search(input, target, L, R)\n",
    "        \n",
    "        \n",
    "    if input[m] < target:\n",
    "        L = m+1\n",
    "        return binary_search(input, target, L, R)\n",
    "        \n",
    "    "
   ]
  },
  {
   "cell_type": "code",
   "execution_count": 12,
   "id": "a923f148",
   "metadata": {},
   "outputs": [
    {
     "data": {
      "text/plain": [
       "6"
      ]
     },
     "execution_count": 12,
     "metadata": {},
     "output_type": "execute_result"
    }
   ],
   "source": [
    "L = 0\n",
    "R = len(x)-1\n",
    "binary_search(x, 9, L, R)"
   ]
  },
  {
   "cell_type": "code",
   "execution_count": 38,
   "id": "b2eeb3b2",
   "metadata": {},
   "outputs": [],
   "source": [
    "\n",
    "def printTree(t, level_start):\n",
    "    \n",
    "    if len(t) == 1:\n",
    "        print(\"-\"*level_start, end=\"\")\n",
    "        print(t[0])\n",
    "        \n",
    "         \n",
    "        \n",
    "        \n",
    "    else:\n",
    "        printTree(t[2], level_start+1)\n",
    "        print(\"-\"*level_start, end=\"\")\n",
    "        print(t[1])\n",
    "        printTree(t[0], level_start+1)\n",
    "        \n"
   ]
  },
  {
   "cell_type": "code",
   "execution_count": 39,
   "id": "8cc10f67",
   "metadata": {},
   "outputs": [
    {
     "name": "stdout",
     "output_type": "stream",
     "text": [
      "--4\n",
      "-2\n",
      "--8\n",
      "3\n",
      "--9\n",
      "-1\n",
      "--7\n"
     ]
    }
   ],
   "source": [
    "\n",
    "printTree([[[7],1,[9]],3,[[8],2,[4]]],0)"
   ]
  },
  {
   "cell_type": "code",
   "execution_count": 42,
   "id": "d8460a34",
   "metadata": {},
   "outputs": [
    {
     "data": {
      "text/plain": [
       "['hello->a', 'hello->b', 'hello->c']"
      ]
     },
     "execution_count": 42,
     "metadata": {},
     "output_type": "execute_result"
    }
   ],
   "source": [
    "g = ['a','b','c']\n",
    "['hello' + '->' + i for i in g]"
   ]
  },
  {
   "cell_type": "code",
   "execution_count": 87,
   "id": "998d654c",
   "metadata": {},
   "outputs": [
    {
     "name": "stdout",
     "output_type": "stream",
     "text": [
      "4310796768 4310796768 4310796768\n",
      "4310796800 4310796768\n"
     ]
    }
   ],
   "source": [
    "a = 5\n",
    "c = 5\n",
    "b = a\n",
    "print(id(a), id(b), id(c))\n",
    "a += 1\n",
    "print(id(a), id(b))"
   ]
  },
  {
   "cell_type": "code",
   "execution_count": 100,
   "id": "ea2da579",
   "metadata": {},
   "outputs": [
    {
     "data": {
      "text/plain": [
       "1"
      ]
     },
     "execution_count": 100,
     "metadata": {},
     "output_type": "execute_result"
    }
   ],
   "source": [
    "g = [1,2,3]\n",
    "min(g)"
   ]
  },
  {
   "cell_type": "code",
   "execution_count": 101,
   "id": "aa269586",
   "metadata": {},
   "outputs": [
    {
     "data": {
      "text/plain": [
       "[2, 3, 4, 3, 4, 5, 4, 5, 6, 5, 6, 7]"
      ]
     },
     "execution_count": 101,
     "metadata": {},
     "output_type": "execute_result"
    }
   ],
   "source": [
    "[x + y for x in range(1,5) for y in range(1,4)]"
   ]
  },
  {
   "cell_type": "code",
   "execution_count": 105,
   "id": "4c0ef843",
   "metadata": {},
   "outputs": [
    {
     "data": {
      "text/plain": [
       "[True,\n",
       " False,\n",
       " False,\n",
       " False,\n",
       " False,\n",
       " False,\n",
       " False,\n",
       " False,\n",
       " False,\n",
       " False,\n",
       " False,\n",
       " False]"
      ]
     },
     "execution_count": 105,
     "metadata": {},
     "output_type": "execute_result"
    }
   ],
   "source": [
    "[c.isupper() for c in 'Hi there mom']"
   ]
  },
  {
   "cell_type": "code",
   "execution_count": 111,
   "id": "9f0407bd",
   "metadata": {},
   "outputs": [
    {
     "name": "stdout",
     "output_type": "stream",
     "text": [
      "[1, 2, 3, 4, 5]\n",
      "[1, 2, 3, 6]\n",
      "[1, 2, 3, 4, 5]\n"
     ]
    }
   ],
   "source": [
    "mylist = [1,2,3,4,5]\n",
    "\n",
    "def myfunc(param):\n",
    "    param = [1,2,3]\n",
    "    param.append(6)\n",
    "    return param\n",
    "print(mylist)\n",
    "print(myfunc(mylist))\n",
    "print(mylist)"
   ]
  },
  {
   "cell_type": "code",
   "execution_count": 120,
   "id": "1b312a2f",
   "metadata": {},
   "outputs": [],
   "source": [
    "myvar = 1\n",
    "def myfunct():\n",
    "    myvari = myvar +1\n",
    "    return myvari"
   ]
  },
  {
   "cell_type": "code",
   "execution_count": 121,
   "id": "d8ec3a3b",
   "metadata": {},
   "outputs": [
    {
     "data": {
      "text/plain": [
       "2"
      ]
     },
     "execution_count": 121,
     "metadata": {},
     "output_type": "execute_result"
    }
   ],
   "source": [
    "myfunct()"
   ]
  },
  {
   "cell_type": "code",
   "execution_count": 125,
   "id": "c563d5e4",
   "metadata": {},
   "outputs": [
    {
     "name": "stdout",
     "output_type": "stream",
     "text": [
      "[1, 2]\n"
     ]
    }
   ],
   "source": [
    "c = [1,2,3]\n",
    "print(c[0:2])"
   ]
  },
  {
   "cell_type": "code",
   "execution_count": 128,
   "id": "948356aa",
   "metadata": {},
   "outputs": [
    {
     "name": "stdout",
     "output_type": "stream",
     "text": [
      "True\n"
     ]
    }
   ],
   "source": [
    "print(True or False)"
   ]
  },
  {
   "cell_type": "code",
   "execution_count": 138,
   "id": "5bf5758d",
   "metadata": {},
   "outputs": [
    {
     "data": {
      "text/plain": [
       "['15', '53', 'a', 'A', 'sunday', 'Today']"
      ]
     },
     "execution_count": 138,
     "metadata": {},
     "output_type": "execute_result"
    }
   ],
   "source": [
    "d = ['Today', '15', 'sunday', '53', 'a', 'A']\n",
    "d.sort(key=lambda x: x.lower())\n",
    "d"
   ]
  },
  {
   "cell_type": "code",
   "execution_count": 147,
   "id": "5c4d893c",
   "metadata": {},
   "outputs": [
    {
     "name": "stdout",
     "output_type": "stream",
     "text": [
      "[1, 2, 3, 4, 5]\n"
     ]
    }
   ],
   "source": [
    "x = [1,2,3,4,5]\n",
    "print(x[0:5])"
   ]
  },
  {
   "cell_type": "code",
   "execution_count": 152,
   "id": "b3a0d6f3",
   "metadata": {},
   "outputs": [
    {
     "name": "stdout",
     "output_type": "stream",
     "text": [
      "dict_keys([0, 1, 2, 3])\n"
     ]
    }
   ],
   "source": [
    "x = {0:4, 1:8, 2:16, 3:32}\n",
    "print(x.keys())"
   ]
  },
  {
   "cell_type": "code",
   "execution_count": 163,
   "id": "b9b9c7fd",
   "metadata": {},
   "outputs": [
    {
     "name": "stdout",
     "output_type": "stream",
     "text": [
      "0.33\n"
     ]
    }
   ],
   "source": [
    "print(f'{1/3:.2f}')"
   ]
  },
  {
   "cell_type": "code",
   "execution_count": 167,
   "id": "ac9a81b1",
   "metadata": {},
   "outputs": [],
   "source": [
    "for a in range(10,1):\n",
    "    print(a)"
   ]
  },
  {
   "cell_type": "code",
   "execution_count": 168,
   "id": "27b36160",
   "metadata": {},
   "outputs": [
    {
     "name": "stdout",
     "output_type": "stream",
     "text": [
      "-2: -4: -6: "
     ]
    }
   ],
   "source": [
    "for i in range(-2,-8,-2):\n",
    "    print(i, end=\": \")"
   ]
  },
  {
   "cell_type": "code",
   "execution_count": 170,
   "id": "5315feb1",
   "metadata": {},
   "outputs": [
    {
     "ename": "SyntaxError",
     "evalue": "invalid syntax (<ipython-input-170-d28739b4f1a2>, line 7)",
     "output_type": "error",
     "traceback": [
      "\u001b[0;36m  File \u001b[0;32m\"<ipython-input-170-d28739b4f1a2>\"\u001b[0;36m, line \u001b[0;32m7\u001b[0m\n\u001b[0;31m    else:\u001b[0m\n\u001b[0m    ^\u001b[0m\n\u001b[0;31mSyntaxError\u001b[0m\u001b[0;31m:\u001b[0m invalid syntax\n"
     ]
    }
   ],
   "source": [
    "var=10\n",
    "for j in range(2,10,1):\n",
    "    if j%2 == 0:\n",
    "        continue\n",
    "    var+= 1\n",
    "    \n",
    "else:\n",
    "    var +=1\n",
    "    \n",
    "print(var)"
   ]
  },
  {
   "cell_type": "code",
   "execution_count": null,
   "id": "8efffd8c",
   "metadata": {},
   "outputs": [],
   "source": []
  }
 ],
 "metadata": {
  "kernelspec": {
   "display_name": "Python 3",
   "language": "python",
   "name": "python3"
  },
  "language_info": {
   "codemirror_mode": {
    "name": "ipython",
    "version": 3
   },
   "file_extension": ".py",
   "mimetype": "text/x-python",
   "name": "python",
   "nbconvert_exporter": "python",
   "pygments_lexer": "ipython3",
   "version": "3.8.8"
  }
 },
 "nbformat": 4,
 "nbformat_minor": 5
}
